{
 "cells": [
  {
   "cell_type": "markdown",
   "metadata": {
    "colab_type": "text",
    "id": "view-in-github"
   },
   "source": [
    "<a href=\"https://colab.research.google.com/github/IEEESBITBA/Curso-Python/blob/master/Clase_1_Curso_Python.ipynb\" target=\"_parent\"><img src=\"https://colab.research.google.com/assets/colab-badge.svg\" alt=\"Open In Colab\"/></a>"
   ]
  },
  {
   "cell_type": "markdown",
   "metadata": {
    "colab_type": "text",
    "id": "zUpAx4mvVgz6"
   },
   "source": [
    "# Clase 1\n",
    "\n",
    "## Introducción a la programación\n",
    "La programación es el proceso que se utiliza para diseñar e implementar un programa de computadora, valiéndose de algún lenguaje que permita comunicar una serie de acciones que se requiere que la computadora realice. ¿Qué es un programa? Es una caja negra que recibe alguna información, la cual es llamada \"input\" (entrada), realiza alguna acción, y devuelve información, la cual es llamada \"output\" (salida).\n",
    "\n",
    "## Lenguajes de programación\n",
    "Un lenguaje de programación es un [lenguaje formal](https://es.wikipedia.org/wiki/Lenguaje_formal) que proporciona una serie de instrucciones, las cuales permiten a un programador escribir secuencias de órdenes para controlar el comportamiento físico y lógico de una computadora, con el objetivo de que produzca diversas acciones deseadas por el programador (¡y los usuarios!).\n",
    "\n",
    "Algunos de los lenguajes mas populares en los últimos tiempos (lejos de ser los únicos) son Python, Java, C++, JavaScript, PHP, etc.\n",
    "\n",
    "<img src=\"https://miro.medium.com/max/838/1*L5QyrMNalM3yhtgdgBcvkQ.png\" height=\"300\" alt = \"Collage de lenguajes de programación populares\" title=\"Hay varios otros lenguajes, como Go, Go!, Gosu etc. \">\n",
    "## ¿Por qué Python?\n",
    "Elegimos Python porque es uno de los lenguajes de programación con reglas más simples e intuitivas que existen; esto explica la creciente popularidad que ha tenido en los ultimos tiempos.\n",
    "\n",
    "A pesar de su simpleza, es muy utilizado tanto en la industria para servidores y servicios web, así como también en el área academica para redes neuronales, deep learning, simulación, etc.\n",
    "\n",
    "La comunidad de Python es una de las más grandes. Por lo tanto cualquier duda que tengan, a partir de ahora, Google es su amigo: pueden buscar la duda que tengan y seguramente alguien ya haya tenido ese problema. Una de los sitios web más conocidos para este fin es [StackOverflow](https://stackoverflow.com/)\n",
    "\n",
    "\n"
   ]
  },
  {
   "cell_type": "markdown",
   "metadata": {
    "colab_type": "text",
    "id": "o7iXxeQFsblK"
   },
   "source": [
    "## Variables\n",
    "\n",
    "En programación, el concepto de variables es un espacio donde el programador o el programa puede almacenar información.\n",
    "\n",
    "En python esto se logra de la siguiente manera:\n",
    "\n",
    "\n"
   ]
  },
  {
   "cell_type": "code",
   "execution_count": 1,
   "metadata": {
    "colab": {},
    "colab_type": "code",
    "id": "dFdsoISPuvyX"
   },
   "outputs": [
    {
     "data": {
      "text/plain": [
       "5"
      ]
     },
     "execution_count": 1,
     "metadata": {},
     "output_type": "execute_result"
    }
   ],
   "source": [
    "x = 5\n",
    "x"
   ]
  },
  {
   "cell_type": "markdown",
   "metadata": {
    "colab_type": "text",
    "id": "d3b-updXAmho"
   },
   "source": [
    "En estas variables podemos guardar lo que sea necesario para ejecutar el programa, por ejemplo si necesitamos guardar texto se indica con: \"(texto)\" o '(texto)'."
   ]
  },
  {
   "cell_type": "code",
   "execution_count": 2,
   "metadata": {
    "colab": {},
    "colab_type": "code",
    "id": "ZaesnOreAx4q"
   },
   "outputs": [
    {
     "data": {
      "text/plain": [
       "'Como'"
      ]
     },
     "execution_count": 2,
     "metadata": {},
     "output_type": "execute_result"
    }
   ],
   "source": [
    "x = 'Hola'\n",
    "y = \"Como\"\n",
    "y"
   ]
  },
  {
   "cell_type": "markdown",
   "metadata": {
    "colab_type": "text",
    "id": "yZl-KaXPCXru"
   },
   "source": [
    "## Input - Output\n",
    "El input de un programa es la manera de recibir información del entorno externo al programa. Esto puede ser un usuario, un archivo, otro programa, un sensor, etc. \n",
    "\n",
    "El output de un programa es la manera de transmitir información hacia el entorno externo. Por ejemplo, puede escribir en la consola de la computadora, puede generar una imagen, etc. En GoogleColaboratory veremos el output del programa debajo de la celda donde fue ejecutado.\n",
    "\n",
    "Para poder mostrar el contenido de una variable podemos utilizar **print**(variable):"
   ]
  },
  {
   "cell_type": "code",
   "execution_count": 3,
   "metadata": {
    "colab": {},
    "colab_type": "code",
    "id": "C1c66KXWCwpD"
   },
   "outputs": [
    {
     "name": "stdout",
     "output_type": "stream",
     "text": [
      "Hola como estas\n"
     ]
    }
   ],
   "source": [
    "print(\"Hola como estas\")"
   ]
  },
  {
   "cell_type": "markdown",
   "metadata": {
    "colab_type": "text",
    "id": "LaLS532qC2sr"
   },
   "source": [
    "¿Qué imprimirá el siguiente codigo?"
   ]
  },
  {
   "cell_type": "code",
   "execution_count": 4,
   "metadata": {
    "colab": {},
    "colab_type": "code",
    "id": "JECLPVC2C6XH"
   },
   "outputs": [
    {
     "name": "stdout",
     "output_type": "stream",
     "text": [
      "Hola\n"
     ]
    }
   ],
   "source": [
    "print(x)"
   ]
  },
  {
   "cell_type": "markdown",
   "metadata": {
    "colab_type": "text",
    "id": "pvDfQCPsC8xc"
   },
   "source": [
    "Para ingresar una variable podemos usar **input**(). Corran este código ustedes para que les de una pequeña casilla donde escribir, y luego el programa escribirá lo que ustedes ingresaron."
   ]
  },
  {
   "cell_type": "code",
   "execution_count": 7,
   "metadata": {
    "colab": {},
    "colab_type": "code",
    "id": "Iuzty4svDEDy"
   },
   "outputs": [
    {
     "name": "stdout",
     "output_type": "stream",
     "text": [
      "hol\n"
     ]
    }
   ],
   "source": [
    "x = input()\n",
    "print(x)"
   ]
  },
  {
   "cell_type": "markdown",
   "metadata": {
    "colab_type": "text",
    "id": "uNa0exphDxse"
   },
   "source": [
    "## Operaciones básicas con variables\n",
    "\n",
    "\n"
   ]
  },
  {
   "cell_type": "markdown",
   "metadata": {
    "colab_type": "text",
    "id": "ZM7lIDcRPdtk"
   },
   "source": [
    "### Operaciones de modificación\n",
    "No seria muy útil un programa si lo único que podemos hacer es guardar en una variable y mostrarla, por lo que podemos realizar algunas operaciones basicas que nos perimiten modificar el contenido:\n",
    "\n",
    "\n",
    "*   **+** : Sumar dos variables $a+b$\n",
    "*   **-**  : Restar dos variables $a-b$\n",
    "*   ** * ** : Multiplicar dos variables $a\\cdot b$\n",
    "*   ** / ** : Dividir una variable por la otra $\\frac{a}{b}$\n",
    "*   ** \\*\\* ** : Una variable elevado a la otra $a^{b}$\n",
    "*   **=** : Asignarle un valor a una variable $a \\leftarrow b$\n",
    "\n",
    "¿Cual será la salida del siguiente programa?"
   ]
  },
  {
   "cell_type": "code",
   "execution_count": null,
   "metadata": {
    "colab": {},
    "colab_type": "code",
    "id": "LrkSFD2zFKo9"
   },
   "outputs": [],
   "source": [
    "x = 3\n",
    "y = -2\n",
    "y = x*y\n",
    "x = x**2\n",
    "print(y)\n",
    "print(x)"
   ]
  },
  {
   "cell_type": "markdown",
   "metadata": {
    "colab_type": "text",
    "id": "sHe-S2KcF_hT"
   },
   "source": [
    "Python nos permite ahorrar código combinando el operando **=** con alguno de los anteriormente vistos:\n",
    "\n",
    "\n",
    "*   ** *= ** : Multiplica la variable $a \\leftarrow a\\cdot b$ \n",
    "*   ** /= ** : Divide la variable  $a \\leftarrow \\frac{a}{b}$ \n",
    "*   ** += ** : Suma a la varaible  $a \\leftarrow a+ b$ \n",
    "*   ** -= ** : Resta a la variable $a \\leftarrow a- b$\n",
    "\n",
    "¿Cual será la salida del siguiente codigo?"
   ]
  },
  {
   "cell_type": "code",
   "execution_count": null,
   "metadata": {
    "colab": {},
    "colab_type": "code",
    "id": "ndLR4DOcHIOb"
   },
   "outputs": [],
   "source": [
    "x/=10\n",
    "print(x)"
   ]
  },
  {
   "cell_type": "markdown",
   "metadata": {
    "colab_type": "text",
    "id": "78iBTQVNISi7"
   },
   "source": [
    "### Operaciones de comparación\n",
    "Existen operaciones donde se comparan las propiedades de una variable.\n",
    "*    **< ** : Menor que $a < b$\n",
    "*    **> ** : Mayor que $a > b$\n",
    "*   **<=** : Menor o igual que $a \\leq b$\n",
    "*   **>=** : Mayor o igual que $a \\geq b$\n",
    "*   **==** : Es igual $a = b$\n",
    "\n",
    "Al comprarar dos números se obtiene True o False según si se cumple la condición:"
   ]
  },
  {
   "cell_type": "code",
   "execution_count": null,
   "metadata": {
    "colab": {},
    "colab_type": "code",
    "id": "xlYwcqQrOy5I"
   },
   "outputs": [],
   "source": [
    "x = 4\n",
    "print(x>=4)\n",
    "print(x<3)"
   ]
  },
  {
   "cell_type": "markdown",
   "metadata": {
    "colab_type": "text",
    "id": "julg_kMLTzCT"
   },
   "source": [
    "También podemos comparar muchas condiciones utilzando:\n",
    "*  **and**: Si se cumplen las dos condicones $a \\land b$\n",
    "*  **or**: Si se cumple alguna de las condicions $ a \\lor b$\n",
    "*  **not**: Si no se cumple esa condición $ \\overline{a} $\n",
    "\n",
    "Veamos un ejemplo:"
   ]
  },
  {
   "cell_type": "code",
   "execution_count": null,
   "metadata": {
    "colab": {},
    "colab_type": "code",
    "id": "uGxeHWppUKLP"
   },
   "outputs": [],
   "source": [
    "x = 4\n",
    "y = x>5 and x < 7\n",
    "z = x>5 or x <7\n",
    "k = not x>5\n",
    "print(y)\n",
    "print(z)\n",
    "print(k)"
   ]
  },
  {
   "cell_type": "markdown",
   "metadata": {
    "colab_type": "text",
    "id": "2cJd7NrKV9dK"
   },
   "source": [
    "Estas condiciones pueden agruparse con ( condicion1 ) **and/or** ( condicion2 ), esto permite chequar condiciones complejas:"
   ]
  },
  {
   "cell_type": "code",
   "execution_count": null,
   "metadata": {
    "colab": {},
    "colab_type": "code",
    "id": "4LYKsyiXLAWW"
   },
   "outputs": [],
   "source": [
    "x = 10\n",
    "y = 5\n",
    "z = (y > x and 15 > x) or (y < x and 15 > x)\n",
    "print(z)"
   ]
  },
  {
   "cell_type": "markdown",
   "metadata": {
    "colab_type": "text",
    "id": "KGPMKjbABDrz"
   },
   "source": [
    "## Flujo de Programa\n",
    "Los programas siguen un \"flujo\" definido por el programador. Esto le permite realizar operaciones complejas. Notar que todas estas estructuras terminan con un ** : **, y la siguiente línea tiene un tab de indentación.\n",
    "\n",
    "\n",
    "###   Estructura if\n",
    "Es la estructura básica que le permite al programador ver si se cumple una condición, y realizar distintas acciones según si eso sucede o no.\n",
    "\n",
    "**if** (condicion):\n",
    "    \n",
    "    ... lo que se hace si se cumple la condición\n",
    "    \n",
    "**elif** (condicion2):\n",
    "\n",
    "    ... lo que se hace si se cumple la condicion2\n",
    "     \n",
    "**else**:\n",
    "\n",
    "    ... lo que se hace si no se cumple la condición\n",
    "    \n",
    "    \n",
    " Siempre se comienza con **if**, después puede haber cualquier cantidad de **elif** (o ninguno). y luego se puede terminar con **else** (o no). Luego del **else** no puede haber más **elif**.\n",
    " \n",
    "\n",
    "\n"
   ]
  },
  {
   "cell_type": "markdown",
   "metadata": {
    "colab_type": "text",
    "id": "rqyrcoqnPmi3"
   },
   "source": [
    "¿Cual será la salida del siguiente programa?"
   ]
  },
  {
   "cell_type": "code",
   "execution_count": null,
   "metadata": {
    "colab": {},
    "colab_type": "code",
    "id": "Y9oaFC5vCFB7"
   },
   "outputs": [],
   "source": [
    "x = 5\n",
    "y = 6\n",
    "if x==y:\n",
    "    print(x)\n",
    "elif y<5 or y>7:\n",
    "    print(x+y)\n",
    "else:\n",
    "    print(y)"
   ]
  },
  {
   "cell_type": "code",
   "execution_count": null,
   "metadata": {
    "colab": {},
    "colab_type": "code",
    "id": "ejJfMzOtQL00"
   },
   "outputs": [],
   "source": [
    "x = -1\n",
    "y = 4\n",
    "\n",
    "if y == 5:\n",
    "    print(\"adivinamos el valor de y!\")\n",
    "          \n",
    "if x == 5:\n",
    "    print(\"adivinamos el valor de x!\")\n",
    "else:\n",
    "    print(\"no adivinamos el valor de x ))):\")\n",
    "  \n",
    "if x > y:\n",
    "    print(\"x es mayor que y\")\n",
    "elif x < y:\n",
    "    print(\"y es mayor que x\")\n",
    "elif x == y:\n",
    "    print(\"x e y son iguales\")\n",
    "else:\n",
    "    print(\"que?????\")"
   ]
  },
  {
   "cell_type": "markdown",
   "metadata": {
    "colab_type": "text",
    "id": "J0shbiwuHYah"
   },
   "source": [
    "\n",
    "\n",
    "###  Estructura while\n",
    "Permite ejecutar operaciones mientras se cumpla una condición.\n",
    "\n",
    "**while** (Condicion):\n",
    "\n",
    "    ... lo que se hace mientras se cumpla la condicion\n",
    "\n",
    "**else** :\n",
    "\n",
    "    ... Se ejecuta cuando la condicion no se cumple más\n",
    "    \n",
    "Esto introduce otra estructura basica de un programa que son los ciclos (loops o bucles). En código se ve de la siguiente manera:\n",
    "\n"
   ]
  },
  {
   "cell_type": "code",
   "execution_count": null,
   "metadata": {
    "colab": {},
    "colab_type": "code",
    "id": "LLcZ4LH3CMUt"
   },
   "outputs": [],
   "source": [
    "x = 1\n",
    "while x<10:\n",
    "    print(x)\n",
    "    x+=1\n",
    "else:\n",
    "    print(\"Termine el while!\")"
   ]
  },
  {
   "cell_type": "markdown",
   "metadata": {
    "colab_type": "text",
    "id": "tzu1YFDNQTQu"
   },
   "source": [
    "Es importante tener en cuenta que la condición se evalúa sólo al principio del loop.\n",
    "\n",
    "¿Qué imprimirá este programa?"
   ]
  },
  {
   "cell_type": "code",
   "execution_count": null,
   "metadata": {
    "colab": {},
    "colab_type": "code",
    "id": "GGIT1bOlQlw_"
   },
   "outputs": [],
   "source": [
    "x = 1\n",
    "while x<=3:\n",
    "    x += 1\n",
    "    print(x)"
   ]
  },
  {
   "cell_type": "markdown",
   "metadata": {
    "colab_type": "text",
    "id": "KHHwPfH3QZQO"
   },
   "source": [
    "#### Ejercicio If y While\n",
    "Implementa un programa que muestre la siguiente secuencia:\n",
    "\n",
    "1,2,3,4,5,4,3,2,1,0\n",
    "\n",
    "Pueden utilizar un while y un if\n",
    "\n",
    "\n"
   ]
  },
  {
   "cell_type": "code",
   "execution_count": null,
   "metadata": {
    "colab": {},
    "colab_type": "code",
    "id": "ELNQM61IIni8"
   },
   "outputs": [],
   "source": []
  },
  {
   "cell_type": "markdown",
   "metadata": {
    "colab_type": "text",
    "id": "T-KOiUHbLcde"
   },
   "source": [
    "### Estructura for\n",
    "La estructura del **for** permite realizar una serie de acciones con una variable, que cambia su valor en cada repetición (iteración). ¿Qué significa esto? Permite realizar la misma \n",
    "\n",
    "**for** (variable) **in** (conjunto de variables):\n",
    "\n",
    "    ... Lo que quieras hacer con tu variable\n",
    "\n",
    "Veámoslo en un ejemplo de codigo:\n"
   ]
  },
  {
   "cell_type": "code",
   "execution_count": null,
   "metadata": {
    "colab": {},
    "colab_type": "code",
    "id": "Cwo3zZy5I3x_"
   },
   "outputs": [],
   "source": [
    "for x in range(0,10,1):\n",
    "    print(x)"
   ]
  },
  {
   "cell_type": "markdown",
   "metadata": {
    "colab_type": "text",
    "id": "VujdlKBZMfE3"
   },
   "source": [
    "**range**(a,b,d)  nos genera los valores desde a hasta b con incrementos de d, por ejemplo el siguiente codigo generara los numeros pares entre 0 y 10:\n",
    "\n"
   ]
  },
  {
   "cell_type": "code",
   "execution_count": null,
   "metadata": {
    "colab": {},
    "colab_type": "code",
    "id": "XCHNbgvEMdIb"
   },
   "outputs": [],
   "source": [
    "for x in range(0,10,2):\n",
    "    print(x)"
   ]
  },
  {
   "cell_type": "markdown",
   "metadata": {
    "colab_type": "text",
    "id": "UoNf8Ce-NAi5"
   },
   "source": [
    "#### Ejercicio for\n",
    "Realizar la siguiente secuencia de datos utilizando un for y un if\n",
    "\n",
    "0,1,4,9,4,5,6"
   ]
  },
  {
   "cell_type": "code",
   "execution_count": null,
   "metadata": {
    "colab": {},
    "colab_type": "code",
    "id": "E3NctxBaM3kG"
   },
   "outputs": [],
   "source": []
  },
  {
   "cell_type": "markdown",
   "metadata": {
    "colab_type": "text",
    "id": "0oG-SkG7PIcN"
   },
   "source": [
    "## Funciones\n",
    "Podemos pensar que una funcion es como un pequeño programa dentro del programa. Las funciones son bloques que nos permiten acortar el código no repitiendo estructuras que necesitamos utilizar mucho. Al igual que los programas las funciones tienen un input y un output: el input son las variables de entrada y su output es el valor o valores que devuelven.\n",
    "\n",
    "**def** miFunción($a_i,b_i,c_i,...$)**:**\n",
    "\n",
    "     ... Hago lo que necesite con las variables a,b,c\n",
    "    \n",
    "   **return** $a_o,b_o,c_o,...$\n",
    "\n",
    "Veamos un ejemplo:"
   ]
  },
  {
   "cell_type": "code",
   "execution_count": null,
   "metadata": {
    "colab": {},
    "colab_type": "code",
    "id": "mpsgG39DNcme"
   },
   "outputs": [],
   "source": [
    "def suma(a,b):\n",
    "    s=a+b\n",
    "    return s\n",
    "\n",
    "x = 2\n",
    "y = 4\n",
    "print(suma(x,y))"
   ]
  },
  {
   "cell_type": "markdown",
   "metadata": {
    "colab_type": "text",
    "id": "q5WyWK1KQVor"
   },
   "source": [
    "Esto tambien podemos combinarlo con las estructuras que vimos previamente"
   ]
  },
  {
   "cell_type": "code",
   "execution_count": null,
   "metadata": {
    "colab": {},
    "colab_type": "code",
    "id": "_xMxxM6EQQon"
   },
   "outputs": [],
   "source": [
    "def chequarContraseña(c):\n",
    "    if c == \"Secreto\":\n",
    "        print(\"Contraseña correcta!\")\n",
    "    else:\n",
    "        print(\"Contraseña incorrecta!\")\n",
    "        \n",
    "chequarContraseña(\"hola\")\n",
    "chequarContraseña(\"Secreto\")"
   ]
  },
  {
   "cell_type": "markdown",
   "metadata": {
    "colab_type": "text",
    "id": "W64FPKi5RaU3"
   },
   "source": [
    "¿Se dieron cuenta que la la forma en la que usamos para imprimir una variable es una función?, **print**( ... ) lo que hace es llamar a una función ya creada que está en el estandar de python y permite que mostremos el contendido que se le pase como parametro a la función."
   ]
  }
 ],
 "metadata": {
  "colab": {
   "collapsed_sections": [],
   "include_colab_link": true,
   "name": "Clase 1 - Curso Python.ipynb",
   "provenance": [],
   "toc_visible": true,
   "version": "0.3.2"
  },
  "kernelspec": {
   "display_name": "Python 3.9.7 ('MachineLearning')",
   "language": "python",
   "name": "python3"
  },
  "language_info": {
   "codemirror_mode": {
    "name": "ipython",
    "version": 3
   },
   "file_extension": ".py",
   "mimetype": "text/x-python",
   "name": "python",
   "nbconvert_exporter": "python",
   "pygments_lexer": "ipython3",
   "version": "3.9.7"
  },
  "vscode": {
   "interpreter": {
    "hash": "2049868fb182f6c6315572f762b0baf3d62c3c8fcba4edb1d737fb4af9b63b29"
   }
  }
 },
 "nbformat": 4,
 "nbformat_minor": 1
}
