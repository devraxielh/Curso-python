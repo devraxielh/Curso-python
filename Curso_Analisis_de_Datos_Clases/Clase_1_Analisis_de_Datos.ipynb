{
  "cells": [
    {
      "cell_type": "markdown",
      "metadata": {
        "id": "-0006-epnUur"
      },
      "source": [
        "## Bienvenidos al Curso de Análisis de Datos en Python!\n",
        "\\\n",
        "El curso consiste en 2 clases, los temas y conceptos a cubrir son los siguientes:\n",
        "\n",
        "\n",
        "**Clase 1 :**\n",
        "*     Introducción a librerías (repaso).\n",
        "*     Lectura y escritura de archivos formato Excel y CSV.\n",
        "*     Manipulación de datos con Pandas.\n",
        "\n",
        "**Clase 2 :**\n",
        "*     Introducción a matplotlib.\n",
        "*     Visualización de datos.\n",
        "*     Personalización de los gráficos.\n"
      ]
    },
    {
      "cell_type": "markdown",
      "metadata": {
        "id": "E1MRGV5I7GfW"
      },
      "source": [
        "# Clase 1"
      ]
    },
    {
      "cell_type": "markdown",
      "metadata": {
        "id": "giUteLvz9PY4"
      },
      "source": [
        "## Introducción al Análisis de Datos\n",
        "\n",
        "Ya sea mediante formularios web, datos analíticos en redes sociales, instrumentos científicos de medición, registros de ventas en un comercio, o de muchas otras formas, cada vez más las personas tienen acceso a grandes volúmenes de datos.\n",
        "\n",
        "Sin embargo, rara vez alcanza con la recopilación de datos, estos deben ser procesados y analizados para poder extraer la información relevante y obtener conclusiones a partir de ellos. Por otro lado, estos resultados deben poder ser visualizados de forma que puedan ser interpretados por una persona.\n",
        "\n",
        "Podemos entonces empezar a discernir algunos de los pasos que formarán parte del proceso de análisis de datos:\n",
        "\n",
        "- Recopilación de datos\n",
        "- Acondicionamiento / Limpieza\n",
        "- Análisis / Procesamiento\n",
        "- Visualización de resultados\n",
        "\n",
        "En este curso vamos a ver una introducción a los últimos 3 puntos, mientras que la tarea de recopilación de datos será específica a su tarea particular, dada la enorme cantidad de posibles métodos de recopilación de datos.\n",
        "\n",
        "Para lograr abarcar a la mayor cantidad de aplicaciones, en este curso nos focalizamos en la obtención de datos mediante archivos de **hojas de cálculo** (como Excel y CSV). Otros posibles métodos podrían incluír archivos JSON, HDF ó bases de datos (como por ejemplo SQL). Además, una vez que aprenden a utilizar una librería para esta tarea, luego pueden empezar a utilizar todo tipo de librerías para manejar los archivos que necesiten.\n",
        "\n",
        "<img src=\"https://icons-for-free.com/iconfiles/png/512/document+file+page+paper+programming+icon-1320165844326114116.png\" width=300>\n",
        "\n",
        "Esta clase resulta ser para muchos estudiantes más difícil que otras. Les recomendamos tener paciencia con los ejercicios y animarse a probar sus ideas aunque no funcionen. Si un problema es difícil, sugerimos probar de simplificar el problema o de resolver sólo una parte del total, antes de seguir intentando. Como siempre, los desafíos no se resuelven siendo un experto, sino con **perseverancia**, **colaboración con compañeros** y **prueba y error**."
      ]
    },
    {
      "cell_type": "markdown",
      "metadata": {
        "id": "AqctVwVr3BGh"
      },
      "source": [
        "# Archivos .xlsx .csv (Información estructurada)\n",
        "\n",
        "\n",
        "\n",
        "[Pandas](https://pandas.pydata.org) es una librería muy popular en los últimos tiempos que nos permite, entre otras cosas, sistematizar con unas pocas funciones la conversión de un archivo de información en los tipos de datos que Python maneja. En esta clase la utilizaremos para poder leer archivos con información en columnas, tales como los formatos **excel** o **csv**.\n",
        "\n",
        "<img src=\"https://upload.wikimedia.org/wikipedia/commons/thumb/e/ed/Pandas_logo.svg/1200px-Pandas_logo.svg.png\" width=600px>\n",
        "\n",
        "\n",
        "\n"
      ]
    },
    {
      "cell_type": "markdown",
      "metadata": {
        "id": "M9T2nn7qlvCQ"
      },
      "source": [
        "## Lectura de archivos .xlsx .csv\n",
        "\n"
      ]
    },
    {
      "cell_type": "markdown",
      "metadata": {
        "id": "mj0twLv6Grdv"
      },
      "source": [
        "A continuación mostraremos un ejemplo donde se accede a la información de un archivo utilizando *pandas*. El archivo que leeremos se llama **Datos.xlsx**, normalmente desde nuestra computadora podremos acceder a los archivos locales mediante su ubicación en el disco. Colab requiere cargar los archivos a su entorno antes de poder usarlos, lo cual se puede realizar mediante el siguiente comando que descarga un archivo de internet:"
      ]
    },
    {
      "cell_type": "code",
      "execution_count": 8,
      "metadata": {
        "id": "pJqU8NbcdnFh"
      },
      "outputs": [],
      "source": [
        "# Comando wget. Solo para maquinas Linux. Colab usa linux!\n",
        "import wget\n",
        "url = 'https://raw.githubusercontent.com/devraxielh/Curso-Python/master/Curso_Analisis_de_Datos_Datos/Datos.xlsx'\n",
        "#filename = wget.download(url)\n",
        "# Si no estamos en un entorno linux podemos definir nuestra propia wget\n",
        "# Esta función nos ayuda a descargar archivos desde la web y no es necesaria para archivos locales\n",
        "# No es necesario entender cómo funciona, se las mostramos sólo por si alguno llega a necesitarla\n",
        "\n",
        "# Importamos la libreria requests\n",
        "import requests\n",
        "\n",
        "def wget(url):\n",
        "    r = requests.get(url, allow_redirects=True)\n",
        "    with open(url[url.rfind('/') + 1::], 'wb') as f:\n",
        "        f.write(r.content)\n",
        "\n",
        "wget(\"https://raw.githubusercontent.com/devraxielh/Curso-Python/master/Curso_Analisis_de_Datos_Datos/Datos.xlsx\")\n"
      ]
    },
    {
      "cell_type": "markdown",
      "metadata": {
        "id": "8yyXIgzOdmbh"
      },
      "source": [
        "La función que utilizaremos para cargar los datos del archivo se llama [read_excel()](https://pandas.pydata.org/pandas-docs/stable/reference/api/pandas.read_excel.html). Esta función recibe como parámetro el nombre del archivo deseado. También existe la función [read_csv()](https://pandas.pydata.org/pandas-docs/stable/reference/api/pandas.read_csv.html) y tiene un funcionamiento muy similar."
      ]
    },
    {
      "cell_type": "code",
      "execution_count": 9,
      "metadata": {
        "id": "rNtLWy_c3ibR"
      },
      "outputs": [
        {
          "name": "stdout",
          "output_type": "stream",
          "text": [
            "   Legajo Nombre    Apellido  Quimica  Matematica  Fisica\n",
            "0   34567   Juan    Martinez       10           7       9\n",
            "1   34678  Pablo    Gonzales        4           9       4\n",
            "2   34234  Maria  Citanovich        2           4       4\n",
            "3   35679    Sol        Rios        9           8      10\n",
            "4   36789  Paula       Lagos        8           5       8\n",
            "5   32578  Tomas         Reu        1           4       2\n"
          ]
        }
      ],
      "source": [
        "import pandas as pd\n",
        "\n",
        "archivo = pd.read_excel(\"Datos.xlsx\")\n",
        "# La variable archivo es de un tipo de dato especial de pandas llamado 'DataFrame'\n",
        "print(archivo)"
      ]
    },
    {
      "cell_type": "markdown",
      "metadata": {
        "id": "8rDJQH9bOIdt"
      },
      "source": [
        "En el ejemplo, la variable `archivo` no es de un tipo estándar de Python, sino que la librería Pandas define su propio tipo de variables. Este tipo es llamado **DataFrame** y como cualquier otro tipo, tiene sus propios métodos y características los cuales se pueden ver en la [documentación de Pandas](https://pandas.pydata.org/docs/reference/api/pandas.DataFrame.html).\n",
        "\n",
        "Una forma de utilizar la información que almacenamos en la variable de tipo *DataFrame*, es convertirla en un tipo conocido. Para esto podemos convertirla a un diccionario usando el método [to_dict()](https://pandas.pydata.org/pandas-docs/stable/reference/api/pandas.DataFrame.to_dict.html). Esta función recibe como parámetro el tipo de diccionario deseado, dependiendo de qué forma es preferible para organizar la información.\n",
        "\n",
        "Los diseñadores de pandas les pusieron los siguientes nombres a distintos tipos de diccionarios:\n",
        "*dict*, *list*, *series*, *split*, *records*, *index*\n",
        "\n",
        "Vamos a ver algunos de estos tipos de diccionarios que son útiles:\n",
        "\n"
      ]
    },
    {
      "cell_type": "code",
      "execution_count": 10,
      "metadata": {
        "id": "e1FhDtaiN7ch"
      },
      "outputs": [
        {
          "name": "stdout",
          "output_type": "stream",
          "text": [
            "{'Legajo': [34567, 34678, 34234, 35679, 36789, 32578], 'Nombre': ['Juan', 'Pablo', 'Maria', 'Sol', 'Paula', 'Tomas'], 'Apellido': ['Martinez', 'Gonzales', 'Citanovich', 'Rios', 'Lagos', 'Reu'], 'Quimica': [10, 4, 2, 9, 8, 1], 'Matematica': [7, 9, 4, 8, 5, 4], 'Fisica': [9, 4, 4, 10, 8, 2]}\n",
            "['Juan', 'Pablo', 'Maria', 'Sol', 'Paula', 'Tomas']\n",
            "Maria\n"
          ]
        }
      ],
      "source": [
        "import pandas as pd\n",
        "\n",
        "archivo = pd.read_excel(\"Datos.xlsx\")\n",
        "data = archivo.to_dict(\"list\")\n",
        "# \"list\" significa que vamos a almacenar a cada columna como una lista con su contenido\n",
        "\n",
        "print(data)\n",
        "print(data['Nombre'])     # Accedemos a los datos de una columna\n",
        "print(data['Nombre'][2])  # Accedemos al índice 2 de la columna 'Nombres'"
      ]
    },
    {
      "cell_type": "markdown",
      "metadata": {
        "id": "wPpcHbNL3kig"
      },
      "source": [
        "El parámetro \"list\" sirve para crear un diccionario donde en cada elemento la *clave* es el nombre de la columna y el *contenido* es una lista con los items de la columna correspondiente.\n",
        "\n",
        "Cambiando el parámetro \"list\" por \"records\" de la función **to_dict()** podemos obtener una lista. Cada elemento de la lista es un diccionario. Cada uno de los diccionarios en la lista corresponde a una fila de la hoja de datos, en donde para cada elemento la *clave* es el nombre de la columna mientras que el *contenido* es 1 solo dato, el dato de la columna y fila correspondiente."
      ]
    },
    {
      "cell_type": "code",
      "execution_count": 11,
      "metadata": {
        "id": "HX3WZ8AJ3meh"
      },
      "outputs": [
        {
          "name": "stdout",
          "output_type": "stream",
          "text": [
            "[{'Legajo': 34567, 'Nombre': 'Juan', 'Apellido': 'Martinez', 'Quimica': 10, 'Matematica': 7, 'Fisica': 9}, {'Legajo': 34678, 'Nombre': 'Pablo', 'Apellido': 'Gonzales', 'Quimica': 4, 'Matematica': 9, 'Fisica': 4}, {'Legajo': 34234, 'Nombre': 'Maria', 'Apellido': 'Citanovich', 'Quimica': 2, 'Matematica': 4, 'Fisica': 4}, {'Legajo': 35679, 'Nombre': 'Sol', 'Apellido': 'Rios', 'Quimica': 9, 'Matematica': 8, 'Fisica': 10}, {'Legajo': 36789, 'Nombre': 'Paula', 'Apellido': 'Lagos', 'Quimica': 8, 'Matematica': 5, 'Fisica': 8}, {'Legajo': 32578, 'Nombre': 'Tomas', 'Apellido': 'Reu', 'Quimica': 1, 'Matematica': 4, 'Fisica': 2}]\n",
            "{'Legajo': 34234, 'Nombre': 'Maria', 'Apellido': 'Citanovich', 'Quimica': 2, 'Matematica': 4, 'Fisica': 4}\n",
            "Maria\n"
          ]
        }
      ],
      "source": [
        "import pandas as pd\n",
        "\n",
        "archivo = pd.read_excel(\"Datos.xlsx\") \n",
        "\n",
        "data = archivo.to_dict(\"records\") \n",
        "# \"records\" significa que vamos a obtener el contenido separado por cada fila\n",
        "\n",
        "print(data)\n",
        "print(data[2])            # Accedemos a los datos de una fila\n",
        "print(data[2]['Nombre'])  # Accedemos a la columna 'Nombres' de la fila con índice 2"
      ]
    },
    {
      "cell_type": "markdown",
      "metadata": {
        "id": "1y_W3XCo3oOg"
      },
      "source": [
        "A veces es necesario \"indexar\" el archivo por alguna columna en particular, en estos casos \n",
        "podemos agregar un parámetro *index_col* con el nombre de la columna que servirá de índice para los datos.\n",
        "Es importante notar que la columna seleccionada no puede tener valores repetidos, ya que los datos de esta columna serán las claves del diccionario generado."
      ]
    },
    {
      "cell_type": "code",
      "execution_count": 12,
      "metadata": {
        "id": "_z9zIZpW3pnx"
      },
      "outputs": [
        {
          "name": "stdout",
          "output_type": "stream",
          "text": [
            "            Legajo Nombre  Quimica  Matematica  Fisica\n",
            "Apellido                                              \n",
            "Martinez     34567   Juan       10           7       9\n",
            "Gonzales     34678  Pablo        4           9       4\n",
            "Citanovich   34234  Maria        2           4       4\n",
            "Rios         35679    Sol        9           8      10\n",
            "Lagos        36789  Paula        8           5       8\n",
            "Reu          32578  Tomas        1           4       2\n",
            "{'Martinez': {'Legajo': 34567, 'Nombre': 'Juan', 'Quimica': 10, 'Matematica': 7, 'Fisica': 9}, 'Gonzales': {'Legajo': 34678, 'Nombre': 'Pablo', 'Quimica': 4, 'Matematica': 9, 'Fisica': 4}, 'Citanovich': {'Legajo': 34234, 'Nombre': 'Maria', 'Quimica': 2, 'Matematica': 4, 'Fisica': 4}, 'Rios': {'Legajo': 35679, 'Nombre': 'Sol', 'Quimica': 9, 'Matematica': 8, 'Fisica': 10}, 'Lagos': {'Legajo': 36789, 'Nombre': 'Paula', 'Quimica': 8, 'Matematica': 5, 'Fisica': 8}, 'Reu': {'Legajo': 32578, 'Nombre': 'Tomas', 'Quimica': 1, 'Matematica': 4, 'Fisica': 2}}\n",
            "{'Legajo': 34567, 'Nombre': 'Juan', 'Quimica': 10, 'Matematica': 7, 'Fisica': 9}\n",
            "34567\n"
          ]
        }
      ],
      "source": [
        "import pandas as pd\n",
        "\n",
        "# Indicamos que la columna de indexación será apellido.\n",
        "archivo = pd.read_excel(\"Datos.xlsx\", index_col =\"Apellido\") \n",
        "print(archivo)\n",
        "\n",
        "data = archivo.to_dict(\"index\")\n",
        "# \"index\" significa que vamos a obtener el contenido como diccionarios \n",
        "# donde la clave es algun campo de cada fila, en este caso la clave de los \n",
        "# diccionarios será la clave \"Apellido\"\n",
        "\n",
        "# convertimos el tipo de dato de pandas a un dict de python\n",
        "\n",
        "print(data)\n",
        "print(data['Martinez'])           # Accedemos a los datos de una fila (usando el dato de índice apropiado)\n",
        "print(data['Martinez']['Legajo']) # Accedemos a la columna 'Legajo' de la fila con índice 'Martinez'"
      ]
    },
    {
      "cell_type": "markdown",
      "metadata": {
        "id": "0yk55xnGUO1U"
      },
      "source": [
        "Todo esto de hablar de filas y de columnas, crear diccionarios de listas, listas de diccionarios, es un poco confuso. Este es un buen momento para detenerse a revisar bien la estructura de datos que genera cada uno de los códigos anteriores. Es normal que si aprendieron a usar listas y diccionarios recientemente, todavía no sea muy fácil conceptualizar los tipos de datos anteriores y pensar en cuál conviene utilizar o cómo acceder al dato que necesito. La realidad es que hay que ganar un poco de práctica y cada vez se vuelve más simple, luego van a poder concentrarse en el proyecto que quieren crear y no tener que pensar cada detalle de listas y diccionarios."
      ]
    },
    {
      "cell_type": "markdown",
      "metadata": {
        "id": "Ve8-YdUyagnD"
      },
      "source": [
        "### Mini desafío 1.A\n",
        "Leer el archivo **Tabla1.xlsx** que contiene los puntos de un campeonato. El archivo tiene cuatro columnas, **Equipo**, **Puntos**, **Goles a favor** y **Goles en contra**. Determinar de cada equipo la diferencia de gol (goles a favor - goles en contra), y mostrar todas las diferencias de gol usando **print**."
      ]
    },
    {
      "cell_type": "code",
      "execution_count": 25,
      "metadata": {
        "id": "efoMZn5096BH"
      },
      "outputs": [
        {
          "name": "stdout",
          "output_type": "stream",
          "text": [
            "--2022-09-12 13:15:08--  https://raw.githubusercontent.com/devraxielh/Curso-Python/master/Curso_Analisis_de_Datos_Datos/Tabla1.xlsx\n",
            "Resolviendo raw.githubusercontent.com (raw.githubusercontent.com)... 185.199.109.133, 185.199.108.133, 185.199.110.133, ...\n",
            "Conectando con raw.githubusercontent.com (raw.githubusercontent.com)[185.199.109.133]:443... conectado.\n",
            "Petición HTTP enviada, esperando respuesta... 200 OK\n",
            "Longitud: 4909 (4.8K) [application/octet-stream]\n",
            "Grabando a: «Tabla1.xlsx»\n",
            "\n",
            "Tabla1.xlsx         100%[===================>]   4.79K  --.-KB/s    en 0.02s   \n",
            "\n",
            "2022-09-12 13:15:11 (198 KB/s) - «Tabla1.xlsx» guardado [4909/4909]\n",
            "\n"
          ]
        }
      ],
      "source": [
        " ! wget \"https://raw.githubusercontent.com/devraxielh/Curso-Python/master/Curso_Analisis_de_Datos_Datos/Tabla1.xlsx\""
      ]
    },
    {
      "cell_type": "code",
      "execution_count": null,
      "metadata": {
        "id": "a1plv4Mz96VO"
      },
      "outputs": [],
      "source": []
    },
    {
      "cell_type": "markdown",
      "metadata": {
        "id": "XjqvtRgg8LRG"
      },
      "source": [
        "### Mini desafío 1.B - Challenge\n",
        "\n",
        "Leer el archivo **Tabla1.xlsx** que contiene los puntos de un campeonato y determinar qué equipo es el campeón (**1ro**) y perdedor (**último**). El archivo tiene cuatro columnas, **Equipo**, **Puntos**, **Goles a favor** y **Goles en contra**."
      ]
    },
    {
      "cell_type": "code",
      "execution_count": null,
      "metadata": {
        "id": "wecPHKih98Pg"
      },
      "outputs": [],
      "source": []
    },
    {
      "cell_type": "markdown",
      "metadata": {
        "id": "4TozN7UY31fw"
      },
      "source": [
        "## Escritura de archivos .xlsx .csv\n",
        "\n",
        "\n",
        "\n",
        "\n"
      ]
    },
    {
      "cell_type": "markdown",
      "metadata": {
        "id": "mgZcMgbqHCKG"
      },
      "source": [
        "Es posible escribir archivos con pandas utilizando el comando [to_excel()](https://pandas.pydata.org/pandas-docs/stable/reference/api/pandas.DataFrame.to_excel.html). Este método recibe el tipo de datos de pandas llamado *DataFrame* por lo cual deberemos realizar una conversión con el método del mismo nombre: [DataFrame()](https://pandas.pydata.org/pandas-docs/stable/reference/api/pandas.DataFrame.html).\n",
        "\n",
        "A continuación mostraremos un ejemplo que genera la siguiente estructura de datos:\n",
        "\n",
        "|   |     Personas     | Edad |\n",
        "|---|:----------------:|-----:|\n",
        "| 0 |  Analía Ferreyra |   25 |\n",
        "| 1 |    Martin Hugo   |   35 |\n",
        "| 2 | Fernando Lorenzo |   87 |\n"
      ]
    },
    {
      "cell_type": "code",
      "execution_count": 13,
      "metadata": {
        "id": "ttd4RpTy39FL"
      },
      "outputs": [
        {
          "name": "stdout",
          "output_type": "stream",
          "text": [
            "           Personas  Edad\n",
            "0   Analía Ferreyra    25\n",
            "1       Martin Hugo    35\n",
            "2  Fernando Lorenzo    87\n"
          ]
        }
      ],
      "source": [
        "import pandas as pd\n",
        "\n",
        "# La clave es el titulo de la columna y el contenido son listas con los items de cada columna\n",
        "data = {\n",
        "    \"Personas\" : [\"Analía Ferreyra\" , \"Martin Hugo\", \"Fernando Lorenzo\"],\n",
        "    \"Edad\" : [25, 35, 87] \n",
        "}\n",
        "\n",
        "# Con pd.DataFrame podemos generar una variable tipo DataFrame\n",
        "# Recordemos que DataFrame es el tipo de dato que usa pandas\n",
        "dataFrame = pd.DataFrame(data) \n",
        "\n",
        "print(dataFrame)\n",
        "\n",
        "# Exportamos la información a un archivo llamado \"personas.xlsx\"\n",
        "dataFrame.to_excel(\"personas.xlsx\") "
      ]
    },
    {
      "cell_type": "markdown",
      "metadata": {
        "id": "nyEP-rLYJlbm"
      },
      "source": [
        "El archivo que genera el programa anterior tiene el siguiente aspecto:\n",
        "\n",
        "<img src=\"https://raw.githubusercontent.com/IEEESBITBA/Curso-Python/master/_assets/colab_archivos_3.png\" width=400>\n",
        "\n",
        "En Google Colab el archivo queda guardado en la pestaña *Archivos*. Si usan un entorno de desarrollo distinto el archivo será guardado en su disco de la computadora. Para ver el archivo generado pueden seguir los siguientes pasos:\n",
        "\n",
        "<img src=\"https://raw.githubusercontent.com/IEEESBITBA/Curso-Python/master/_assets/colab_archivos_2.png\" width=400>\n",
        "\n",
        "\n"
      ]
    },
    {
      "cell_type": "markdown",
      "metadata": {
        "id": "0bG4eyBmHIu2"
      },
      "source": [
        "Además de poder convertir los datos de un archivo a una estructura de datos nativa de Python, como listas y diccionarios, Pandas tiene la posibilidad de trabajar directamente sobre un *DataFrame* usando operaciones y métodos particulares. Sería muy aburrido explicar cada uno de ellos en detalle ya que varios son muy específicos, pero podrían ser la solución perfecta para un problema muy particular. A continuación veremos las operaciones más utilizadas, confiando en que si llegan a necesitar realizar operaciones más complejas puedan encontrarlas en la [documentación de pandas](https://pandas.pydata.org/pandas-docs/stable/reference/api/pandas.DataFrame.html) o foros como StackOverflow."
      ]
    },
    {
      "cell_type": "code",
      "execution_count": 14,
      "metadata": {
        "id": "yYH9Zaq13m4T"
      },
      "outputs": [
        {
          "name": "stdout",
          "output_type": "stream",
          "text": [
            "   Legajo Nombre    Apellido  Quimica  Matematica  Fisica\n",
            "0   34567   Juan    Martinez       10           7       9\n",
            "1   34678  Pablo    Gonzales        4           9       4\n",
            "2   34234  Maria  Citanovich        2           4       4\n",
            "3   35679    Sol        Rios        9           8      10\n",
            "4   36789  Paula       Lagos        8           5       8\n",
            "5   32578  Tomas         Reu        1           4       2\n"
          ]
        }
      ],
      "source": [
        "import pandas as pd\n",
        "\n",
        "# Volvemos a abrir el archivo que fue utilizado anteriormente:\n",
        "datos = pd.read_excel(\"Datos.xlsx\") \n",
        "print(datos)"
      ]
    },
    {
      "cell_type": "markdown",
      "metadata": {
        "id": "Hv008YkD4xbm"
      },
      "source": [
        "Usualmente necesitamos acceder a los datos dispuestos en las columnas esto se hace de forma similar a un diccionario, la forma es la siguiente:"
      ]
    },
    {
      "cell_type": "code",
      "execution_count": 15,
      "metadata": {
        "id": "ywvdqmgz4whY"
      },
      "outputs": [
        {
          "name": "stdout",
          "output_type": "stream",
          "text": [
            "0    10\n",
            "1     4\n",
            "2     2\n",
            "3     9\n",
            "4     8\n",
            "5     1\n",
            "Name: Quimica, dtype: int64\n"
          ]
        }
      ],
      "source": [
        "# Recordar que -datos- es un DataFrame, no un diccionario.\n",
        "# Pero su uso es similar:\n",
        "\n",
        "columna = 'Quimica'\n",
        "print(datos[columna])"
      ]
    },
    {
      "cell_type": "markdown",
      "metadata": {
        "id": "pt6ECixK5Un9"
      },
      "source": [
        "Podemos ver que a diferencia de un diccionario, al mostrar una columna de la tabla usando print() aparece información adicional, como el indice de cada fila, el nombre de la columna y el tipo de dato.\n",
        "\n",
        "Otra tarea común es acceder a una fila en particular, en el ejemplo sería acceder a un alumno en particular. Se puede lograr de la siguiente forma:"
      ]
    },
    {
      "cell_type": "code",
      "execution_count": 16,
      "metadata": {
        "id": "CR0RNXUm5kv8"
      },
      "outputs": [
        {
          "name": "stdout",
          "output_type": "stream",
          "text": [
            "Legajo           34567\n",
            "Nombre            Juan\n",
            "Apellido      Martinez\n",
            "Quimica             10\n",
            "Matematica           7\n",
            "Fisica               9\n",
            "Name: 0, dtype: object\n"
          ]
        }
      ],
      "source": [
        "indice = 0\n",
        "alumno = datos.loc[indice] \n",
        "print(alumno)"
      ]
    },
    {
      "cell_type": "markdown",
      "metadata": {
        "id": "ezDd8V7f59vn"
      },
      "source": [
        "*¿Por qué se usa .loc[indice] en vez de directamente usar corchetes?*\n",
        "\n",
        "Normalmente se intenta que los operadores siempre signifiquen lo mismo, de forma que los corchetes deberían servir para acceder a un elemento, pero en este caso los corchetes ya se utilizan para acceder a una columna como en el ejemplo anterior, por lo cual se debe usar un operador distinto para acceder a una fila, o serían indistinguibles.\n",
        "\n",
        "Veamos ahora cómo se puede acceder a un dato en particular del alumno:"
      ]
    },
    {
      "cell_type": "code",
      "execution_count": 17,
      "metadata": {
        "id": "nthq4hDd5880"
      },
      "outputs": [
        {
          "name": "stdout",
          "output_type": "stream",
          "text": [
            "7\n"
          ]
        }
      ],
      "source": [
        "# Podemos ingresar primero a la fila y luego a la columna:\n",
        "\n",
        "indice = 0\n",
        "alumno = datos.loc[indice] \n",
        "print(alumno['Matematica'])"
      ]
    },
    {
      "cell_type": "code",
      "execution_count": 18,
      "metadata": {
        "id": "HVgYSM2Qe9mr"
      },
      "outputs": [
        {
          "name": "stdout",
          "output_type": "stream",
          "text": [
            "7\n"
          ]
        }
      ],
      "source": [
        "# Podemos ingresar primero a la columna y luego a la fila:\n",
        "\n",
        "indice = 0\n",
        "matematica = datos['Matematica']\n",
        "print(matematica[indice])"
      ]
    },
    {
      "cell_type": "markdown",
      "metadata": {
        "id": "RxJmXntJfV8i"
      },
      "source": [
        "Muchas veces les va a pasar que hay más de una forma de resolver un problema con programación, como en el ejemplo sencillo de acceder a una celda particular en una tabla.\n",
        "\n",
        "*¿Cuál deberían usar?* Va a depender de cuál les parezca más fácil de entender, y cuál se amolde mejor a su aplicación particular, no hay una única respuesta. Por ahora alcanza con tener en cuenta que si un problema se vuelve complejo, quizá exista una forma de encararlo que produzca el mismo resultado pero que sea más simple o efectiva.\n"
      ]
    },
    {
      "cell_type": "markdown",
      "metadata": {
        "id": "D4EY947g5RSL"
      },
      "source": [
        "### Mini desafío 2.A\n",
        "Calcular el promedio de las notas de química de todos los alumnos en el archivo **Datos.xlsx**.\n",
        "\n",
        "- **Tip:** Podemos usar la función **sum**($iterable$) para obtener la suma de todos los campos. Un ejemplo de como funciona:\n",
        "```python\n",
        "mi_lista = [1, 2, 3, 4, 5]\n",
        "total = sum(mi_lista)\n",
        "print(total)\n",
        "```\n",
        " ¡La función **len()** también sigue siendo válida!"
      ]
    },
    {
      "cell_type": "code",
      "execution_count": null,
      "metadata": {
        "id": "c-BsC-cQ-Xem"
      },
      "outputs": [],
      "source": []
    },
    {
      "cell_type": "markdown",
      "metadata": {
        "id": "oloubsnc6nKD"
      },
      "source": [
        "### Mini desafío 2.B\n",
        "\n",
        "Escribir una funcion que reciba como parámetros: una variable de tipo **DataFrame** (la tabla de alumnos) y el índice de un alumno. Luego debe devolver con *return* el promedio de sus notas en las diferentes materias."
      ]
    },
    {
      "cell_type": "code",
      "execution_count": null,
      "metadata": {
        "id": "RrEacQsE-ZSf"
      },
      "outputs": [],
      "source": []
    },
    {
      "cell_type": "markdown",
      "metadata": {
        "id": "mL7YIBlP6vuE"
      },
      "source": [
        "### Otras operaciones\n",
        "\n",
        "\n"
      ]
    },
    {
      "cell_type": "markdown",
      "metadata": {
        "id": "AzN7fMfAHR8G"
      },
      "source": [
        "Veamos un ejemplo para sacar todos los promedios de los alumnos a la vez."
      ]
    },
    {
      "cell_type": "code",
      "execution_count": 19,
      "metadata": {
        "id": "rcNWN_MB7IvD"
      },
      "outputs": [
        {
          "name": "stdout",
          "output_type": "stream",
          "text": [
            "Todos los promedios\n",
            "0    8.666667\n",
            "1    5.666667\n",
            "2    3.333333\n",
            "3    9.000000\n",
            "4    7.000000\n",
            "5    2.333333\n",
            "dtype: float64\n",
            "El promedio maximo es 9.0\n"
          ]
        }
      ],
      "source": [
        "promedios = (datos['Quimica'] + datos['Matematica'] + datos['Fisica']) / 3\n",
        "print('Todos los promedios')\n",
        "print(promedios)\n",
        "print('El promedio maximo es', promedios.max())"
      ]
    },
    {
      "cell_type": "markdown",
      "metadata": {
        "id": "2dS5eCtHbPqn"
      },
      "source": [
        "Podemos ver que cuando se suman columnas de un *DataFrame*, se calcula la suma **elemento a elemento**, como si hiciera la operación suma para cada fila por separado. Cuando se divide por 3 la suma de las columnas, realiza la división por 3 de cada resultado por separado y queda al final 1 resultado por fila. Esto es muy práctico y también funciona con otros operadores, por lo cual se vuelve bastante intuitivo realizar cuentas sencillas.\n",
        "\n",
        "También se muestra en el ejemplo el método **.max()** que encuentra el valor máximo."
      ]
    },
    {
      "cell_type": "markdown",
      "metadata": {
        "id": "EdGw9iAB7Fzz"
      },
      "source": [
        "### Filtrado\n",
        "\n",
        "En un DataFrame es posible filtrar los datos según alguna condición. Esto se realiza de la siguiente manera:\n",
        "> dataframe**[** condicion1 **&**/**|** condicion2 **&**/**|** condicion3 ...  **]**\n",
        "\n",
        "Donde dice `&/|` es porque se puede elegir escribir `&` para hacer un **and**, o se puede escribir `|` para hacer un **or**.\n",
        "\n",
        "Las condiciones siguien el siguiente formato:\n",
        "> dataframe**[** propiedad **]** **>**/**<**/**<=**/**...** (número)\n",
        "\n",
        "**Nota:** No debe ser una comparación sí o sí con un numero, se puede comparar contra cualquier cosa mientras se puedan cumplir esas condiciones (mayor, menor, mayor o igual, igual, etc.).\n",
        "\n",
        "Veamos un ejemplo extrayendo todos los alumnos que hayan aprobado química (nota >= 4):"
      ]
    },
    {
      "cell_type": "code",
      "execution_count": 20,
      "metadata": {
        "id": "cux4th_--klH"
      },
      "outputs": [
        {
          "name": "stdout",
          "output_type": "stream",
          "text": [
            "Datos:\n",
            "\n",
            "   Legajo Nombre    Apellido  Quimica  Matematica  Fisica\n",
            "0   34567   Juan    Martinez       10           7       9\n",
            "1   34678  Pablo    Gonzales        4           9       4\n",
            "2   34234  Maria  Citanovich        2           4       4\n",
            "3   35679    Sol        Rios        9           8      10\n",
            "4   36789  Paula       Lagos        8           5       8\n",
            "5   32578  Tomas         Reu        1           4       2\n",
            "\n",
            "Aprobados en Química:\n",
            "\n",
            "   Legajo Nombre  Apellido  Quimica  Matematica  Fisica\n",
            "0   34567   Juan  Martinez       10           7       9\n",
            "1   34678  Pablo  Gonzales        4           9       4\n",
            "3   35679    Sol      Rios        9           8      10\n",
            "4   36789  Paula     Lagos        8           5       8\n"
          ]
        }
      ],
      "source": [
        "import pandas as pd\n",
        "\n",
        "datos = pd.read_excel(\"Datos.xlsx\") \n",
        "print(\"Datos:\\n\")\n",
        "print(datos)\n",
        "\n",
        "aprobados = datos[ datos['Quimica'] >= 4 ]\n",
        "print(\"\\nAprobados en Química:\\n\")\n",
        "print(aprobados)"
      ]
    },
    {
      "cell_type": "markdown",
      "metadata": {
        "id": "5zGnfeZJgZ0y"
      },
      "source": [
        "Podemos hacer otro ejemplo en donde mostramos los alumnos que reprobaron al menos una materia, es decir que:\n",
        "\n",
        "(la nota de Química es menor a 4) **ó** (la nota de Matemática es menor a 4) **ó** (la nota de Física es menor a 4)"
      ]
    },
    {
      "cell_type": "code",
      "execution_count": 21,
      "metadata": {
        "id": "9yJpC2yVglSE"
      },
      "outputs": [
        {
          "name": "stdout",
          "output_type": "stream",
          "text": [
            "Reprobaron al menos una materia:\n",
            "   Legajo Nombre    Apellido  Quimica  Matematica  Fisica\n",
            "2   34234  Maria  Citanovich        2           4       4\n",
            "5   32578  Tomas         Reu        1           4       2\n"
          ]
        }
      ],
      "source": [
        "aprobados = datos[ (datos['Quimica'] < 4) | (datos['Matematica'] < 4) | (datos['Fisica'] < 4) ]\n",
        "print(\"Reprobaron al menos una materia:\")\n",
        "print(aprobados)"
      ]
    },
    {
      "cell_type": "markdown",
      "metadata": {
        "id": "XH9wzS7ykFnM"
      },
      "source": [
        "En el siguiente archivo se tienen las notas de algunos alumnos, donde la letra \"A\" representa que el estudiante se inscribió al examen pero estuvo Ausente y una celda vacía representa que el alumno no se inscribió al examen:"
      ]
    },
    {
      "cell_type": "code",
      "execution_count": 26,
      "metadata": {
        "id": "_ltN7aYOkEed"
      },
      "outputs": [
        {
          "name": "stdout",
          "output_type": "stream",
          "text": [
            "--2022-09-12 13:15:33--  https://raw.githubusercontent.com/devraxielh/Curso-Python/master/Curso_Analisis_de_Datos_Datos/Datos2.xlsx\n",
            "Resolviendo raw.githubusercontent.com (raw.githubusercontent.com)... 185.199.108.133, 185.199.110.133, 185.199.109.133, ...\n",
            "Conectando con raw.githubusercontent.com (raw.githubusercontent.com)[185.199.108.133]:443... conectado.\n",
            "Petición HTTP enviada, esperando respuesta... 200 OK\n",
            "Longitud: 9078 (8.9K) [application/octet-stream]\n",
            "Grabando a: «Datos2.xlsx.1»\n",
            "\n",
            "Datos2.xlsx.1       100%[===================>]   8.87K  --.-KB/s    en 0.02s   \n",
            "\n",
            "2022-09-12 13:15:34 (362 KB/s) - «Datos2.xlsx.1» guardado [9078/9078]\n",
            "\n"
          ]
        }
      ],
      "source": [
        "!wget \"https://raw.githubusercontent.com/devraxielh/Curso-Python/master/Curso_Analisis_de_Datos_Datos/Datos2.xlsx\""
      ]
    },
    {
      "cell_type": "code",
      "execution_count": 23,
      "metadata": {
        "id": "2egP2_UBkoNd"
      },
      "outputs": [
        {
          "name": "stdout",
          "output_type": "stream",
          "text": [
            "Datos:\n",
            "\n",
            "   Legajo Nombre    Apellido Quimica Matematica  Fisica\n",
            "0   34567   Juan    Martinez      10        NaN     9.0\n",
            "1   34678  Pablo    Gonzales       4          9     4.0\n",
            "2   34234  Maria  Citanovich       A          4     4.0\n",
            "3   35679    Sol        Rios       9          8    10.0\n",
            "4   36789  Paula       Lagos       8          A     8.0\n",
            "5   32578  Tomas         Reu       1          4     NaN\n"
          ]
        }
      ],
      "source": [
        "import pandas as pd\n",
        "\n",
        "datos2 = pd.read_excel(\"Datos2.xlsx\") \n",
        "print(\"Datos:\\n\")\n",
        "print(datos2)"
      ]
    },
    {
      "cell_type": "markdown",
      "metadata": {
        "id": "0kUJ10qWlCsq"
      },
      "source": [
        "Podemos ver que Pandas representa las celdas vacías con el texto \"NaN\" (Not a Number). Podríamos filtrar estos valores de forma similar a los ejemplos anteriores. Esta vez tendremos que usar un método específico para detectar que el valor no sea NaN:"
      ]
    },
    {
      "cell_type": "code",
      "execution_count": 24,
      "metadata": {
        "id": "aDkbv7PLlejm"
      },
      "outputs": [
        {
          "name": "stdout",
          "output_type": "stream",
          "text": [
            "Notas válidas en Matemática: \n",
            "1    9\n",
            "2    4\n",
            "3    8\n",
            "5    4\n",
            "Name: Matematica, dtype: object\n"
          ]
        }
      ],
      "source": [
        "datos2_matematica = datos2[ (datos2['Matematica'].notna()) & (datos2['Matematica'] != 'A')  ]\n",
        "\n",
        "datos2_matematica = datos2_matematica['Matematica'] # Nos quedamos con la columna de interés\n",
        "\n",
        "print('Notas válidas en Matemática: ')\n",
        "print(datos2_matematica)"
      ]
    },
    {
      "cell_type": "markdown",
      "metadata": {
        "id": "LpPtaI977eSc"
      },
      "source": [
        "### Mini desafío 3\n",
        "\n",
        "Obtener el promedio general sólo para aquellos alumnos que aprobaron Matemática (con nota `>= 6`) en el archivo **Datos.xlsx**."
      ]
    },
    {
      "cell_type": "code",
      "execution_count": null,
      "metadata": {
        "id": "TqbnksxrE1XT"
      },
      "outputs": [],
      "source": []
    },
    {
      "cell_type": "markdown",
      "metadata": {
        "id": "0Ic-7evOJVTs"
      },
      "source": [
        "# Para seguir aprendiendo...\n",
        "\n",
        "Decidimos explicar los formatos de información estructurada más utilizados, pero como se pueden imaginar, existen muchos más formatos que se utilizan para diferentes tareas.\n",
        "\n",
        "Como contenido extra, sólo para aquellos interesados en seguir investigando contenido relacionado, incluímos 2 Anexos al final de la clase que se relacionan con el formato *JSON*.\n",
        "\n",
        "La lectura de los Anexos es **100% opcional** y NO es un requisito para continuar con el curso."
      ]
    },
    {
      "cell_type": "markdown",
      "metadata": {
        "id": "3UmXCJj6zoHw"
      },
      "source": [
        "# Ejercitación integradora $\\newcommand{\\dif}{\\bigstar}$$\\newcommand{\\facil}{\\color{\\green}{\\dif}}$ $\\newcommand{\\pieceofcake}{\\color{\\cyan}{\\dif}}$$\\newcommand{\\medio}{\\color{\\yellow}{\\dif\\dif}}$$\\newcommand{\\media}{\\medio}$$\\newcommand{\\normal}{\\medio}$  $\\newcommand{\\dificil}{\\color{\\orange}{\\dif\\dif\\dif}}$ $\\newcommand{\\imposible}{\\color{\\red}{\\dif\\dif\\dif\\dif}}$\n"
      ]
    },
    {
      "cell_type": "markdown",
      "metadata": {
        "id": "dz1uvBrZlIHA"
      },
      "source": [
        "## $\\facil$ Copy\n",
        "*   **Uso de librerías**\n",
        "*   **Manejo de archivos**\n",
        "\n",
        "Armar una función que copie un archivo *.xlsx*, y lo guarde como \"Copia 1 - $nombre$\", de ya existir debe guardarlo como Copia 2 -, Copia 3 - , ...\n",
        "\n",
        "Usar la libreria **os** para chequear si existe el archivo:\n",
        "\n",
        "Tips:\n",
        "\n",
        "- os.path.exists($nombre$) devolverá True si ya existe\n",
        "\n",
        "- Se puede importar con: `import os`\n"
      ]
    },
    {
      "cell_type": "code",
      "execution_count": null,
      "metadata": {
        "id": "jDM3ib2j5CNR"
      },
      "outputs": [],
      "source": []
    },
    {
      "cell_type": "markdown",
      "metadata": {
        "id": "RhBBj36A0w3e"
      },
      "source": [
        "## $\\facil$ California Housing\n",
        "\n",
        "*   ***Analísis de información estructurada***\n",
        "*   ***Librerías***\n",
        "\n",
        "\n"
      ]
    },
    {
      "cell_type": "code",
      "execution_count": 27,
      "metadata": {
        "id": "qDy9QmNZ4FS8"
      },
      "outputs": [
        {
          "name": "stdout",
          "output_type": "stream",
          "text": [
            "--2022-09-12 13:16:02--  https://raw.githubusercontent.com/devraxielh/Curso-Python/master/Curso_Analisis_de_Datos_Datos/california_housing_train.xlsx\n",
            "Resolviendo raw.githubusercontent.com (raw.githubusercontent.com)... 185.199.108.133, 185.199.110.133, 185.199.109.133, ...\n",
            "Conectando con raw.githubusercontent.com (raw.githubusercontent.com)[185.199.108.133]:443... conectado.\n",
            "Petición HTTP enviada, esperando respuesta... 200 OK\n",
            "Longitud: 988464 (965K) [application/octet-stream]\n",
            "Grabando a: «california_housing_train.xlsx»\n",
            "\n",
            "california_housing_ 100%[===================>] 965.30K   575KB/s    en 1.7s    \n",
            "\n",
            "2022-09-12 13:16:07 (575 KB/s) - «california_housing_train.xlsx» guardado [988464/988464]\n",
            "\n"
          ]
        }
      ],
      "source": [
        "# Importar el archivo california_housing_train.xlsx.\n",
        "! wget \"https://raw.githubusercontent.com/devraxielh/Curso-Python/master/Curso_Analisis_de_Datos_Datos/california_housing_train.xlsx\""
      ]
    },
    {
      "cell_type": "markdown",
      "metadata": {
        "id": "Pfqjp8MH5sfY"
      },
      "source": [
        "Este archivo contiene un conjunto de datos de viviendas de California, el cual fue extraido del censo de nacional de 1990. Para mas info sobre el set de datos: https://developers.google.com/machine-learning/crash-course/california-housing-data-description\n",
        "\n",
        "Extraer la siguiente información:\n",
        "\n",
        "*   ¿Cuantas casas hay con valor 'median_house_value' mayor a 80000 tomando de la longitud -120  a -118? Rta: 5466\n",
        "*   ¿Cual es el promedio de habitaciones por manzana ('total_rooms') de estas casas? Rta: 2466.31\n",
        "\n",
        "*   ¿Cual es la casa más cara? ¿Cuántas hay con este valor? Rta: 500001.0 - 814 \n",
        "\n",
        "*   $\\medio$ Obtener la media y la varianza de la propiedad 'median_house_value'. Rta: 207300.91 - 13451442293.57\n",
        "\n",
        "**Tip:** ¡Pueden investigar funciones de numpy para conseguir la media y la varianza!  [numpy.var](https://docs.scipy.org/doc/numpy-1.6.0/reference/generated/numpy.var.html)"
      ]
    },
    {
      "cell_type": "code",
      "execution_count": null,
      "metadata": {
        "id": "i4eMHo5N1D6S"
      },
      "outputs": [],
      "source": [
        "# Una vez descargado el archivo se llamará \"california_housing_train.xlsx\"\n",
        "! wget \"https://raw.githubusercontent.com/IEEESBITBA/Curso-Python/master/Curso_Analisis_de_Datos_Datos/california_housing_train.xlsx\"\n",
        "\n",
        "import pandas as pd\n",
        "import numpy as np\n",
        "\n",
        "archivo = pd.read_excel(\"california_housing_train.xlsx\") "
      ]
    },
    {
      "cell_type": "markdown",
      "metadata": {
        "id": "oN3fQAn0P4xu"
      },
      "source": [
        "## $\\medio$ Llévame en tu bicicleta\n",
        "\n",
        "*   ***Analisís de información estructurada***\n",
        "*   ***Librerías***\n",
        "\n",
        "El gobierno de la Ciudad de Buenos Aires recolecta datos acerca del uso de los servicios de bicicletas públicas (ecobici) y publica parte de ellos:\n",
        "https://data.buenosaires.gob.ar/dataset/bicicletas-publicas\n",
        "\n",
        "Para este ejemplo usaremos los primeros 10000 viajes de la base de datos del 2021. Están invitados a analizar todos los viajes, pero para ello les recomendamos descargar el archivo y ejecutar su programa en forma local (no en Google Golab).\n",
        "\n",
        "Se quiere conocer más acerca del uso que le dan los usuarios al sistema, por lo cual su tarea será extraer la siguiente información:\n",
        "\n",
        "* ¿Qué porcentaje de los viajes se completaron en estado NORMAL?\n",
        "* ¿Cuál es la duración promedio de cada viaje? (Los datos están en segundos)\n",
        "* ¿A qué hora del día se realizaron más viajes? (por ejemplo: de 16hs a 17hs)\n",
        "* ¿Cuántas estaciones diferentes fueron utilizadas?\n",
        "* Para cada estación utilizada como inicio de un viaje, imprimirlas ordenadas por cantidad de viajes que iniciaron de la misma.\n",
        "\n",
        "**Tip:** Recuerden investigar los métodos que tienen los DataFrames para ver si alguno de ellos les ayuda a resolver un problema particular.\n"
      ]
    },
    {
      "cell_type": "code",
      "execution_count": null,
      "metadata": {
        "id": "xcDrfZ-XP9Nc"
      },
      "outputs": [],
      "source": [
        "# Una vez descargado el archivo se llamará \"recorridos-realizados-2021-sample.csv\"\n",
        "! wget \"https://raw.githubusercontent.com/IEEESBITBA/Curso-Python/master/Curso_Analisis_de_Datos_Datos/recorridos-realizados-2021-sample.csv\"\n",
        "\n",
        "import pandas as pd\n",
        "import numpy as np\n",
        "\n",
        "archivo = pd.read_csv(\"recorridos-realizados-2021-sample.csv\") "
      ]
    },
    {
      "cell_type": "code",
      "execution_count": null,
      "metadata": {
        "id": "OwnDYXrkWi1O"
      },
      "outputs": [],
      "source": []
    },
    {
      "cell_type": "markdown",
      "metadata": {
        "id": "JZkXQVHHB9ps"
      },
      "source": [
        "## $\\medio$ El tiempo es dinero\n",
        "\n",
        "*   ***Analisís de información estructurada***\n",
        "*   ***Librerías***\n",
        "\n",
        "La administración del dinero es una tarea que requiere una altísima fiabilidad. \n",
        "En esta ocasión tu objetivo será programar un script que **actualize la cantidad** de dinero de una serie de usuarios a partir de la información de las transferencias que fueron realizadas. \n",
        "Más concretamente recibiras una **base de datos con la cantidad de dinero de una serie de usuarios**, un base de datos con una serie de transferencias que los usuarios se realizan entre si, y deberás generar con eso **una nueva base de datos con el dinero actualizado de cada usuario**.\n",
        "\n",
        "*   Importar el archivo **Finanzas.xlsx** que contiene la cantidad de dinero de los usuarios y las transferencias en dos hojas de archivo.\n",
        "*   Exportar un archivo **usuarios_actualizados.xlsx** que contiene las cantidades de dinero actualizadas.\n",
        "\n",
        "<img src=\"https://psmag.com/.image/t_share/MTI3NTgyMzg2MzE2NzAxNjY2/time-is-money.jpg\" width=400>\n",
        "\n"
      ]
    },
    {
      "cell_type": "code",
      "execution_count": null,
      "metadata": {
        "id": "xDfaq9hDCAii"
      },
      "outputs": [],
      "source": [
        "! wget \"https://raw.githubusercontent.com/IEEESBITBA/Curso-Python/master/Curso_Analisis_de_Datos_Datos/Finanzas.xlsx\""
      ]
    },
    {
      "cell_type": "markdown",
      "metadata": {
        "id": "TCM6UYHPGIdl"
      },
      "source": [
        "Debes procesar las transferencias y actualizar el saldo de cada usuario (crear un nuevo archivo excel con los saldos actualizados)"
      ]
    },
    {
      "cell_type": "code",
      "execution_count": null,
      "metadata": {
        "id": "vNW7TVWHCc45"
      },
      "outputs": [],
      "source": [
        "usuarios_archivo = pd.read_excel(\"Finanzas.xlsx\", \"Usuarios\",index_col=\"Usuario\") \n",
        "#leemos los usuarios \"indexados\" por su nombre\n",
        "\n",
        "transferencias_archivo = pd.read_excel(\"Finanzas.xlsx\", \"Transferencias\")"
      ]
    },
    {
      "cell_type": "markdown",
      "metadata": {
        "id": "8CmN7SuE6ml-"
      },
      "source": [
        "## $\\dificil $ Buscando la $\n",
        "\n",
        "\n",
        "*   ***Procesamiento de información estructurada***\n",
        "*   ***Librerías***\n",
        "\n",
        "Utilizando el set de datos del archivo **california_housing_train.xlsx**\n",
        "\n",
        "Dividir el area cubierta por el censo en cuadrantes de 0.5 de latitud x 0.5  de longitud, encontrar para qué cuadrante el valor medio de 'median_house_value' es máximo. Asignar el paso como una variable para que pueda cambiarse facilmente. Para filtrar las zonas de muy baja residencia descarten los valores cuando hay menos de 100 casas\n",
        "\n",
        "Datos utiles:\n",
        "- Minimo de longitud: -124.3\n",
        "- Máximo de longitud: -114.3\n",
        "- Minimo de latitud: 32.5\n",
        "- Máximo de latitud: 42.5\n",
        "\n",
        "**Tips:** El programa va a tardar en correr, no se asusten! Pueden investigar funciones de numpy para ayudarlos a resolver el problema [numpy.arange](https://docs.scipy.org/doc/numpy/reference/generated/numpy.arange.html).\n",
        "\n",
        "**Nota final**: Busquen en el mapa estas coordenadas para ver donde quedan! \n",
        "\n",
        "\n",
        "\n"
      ]
    },
    {
      "cell_type": "code",
      "execution_count": null,
      "metadata": {
        "id": "HFNVBCai692J"
      },
      "outputs": [],
      "source": [
        "import pandas as pd\n",
        "import numpy as np\n",
        "\n",
        "archivo = pd.read_excel(\"california_housing_train.xlsx\") \n",
        "paso = .5\n",
        "\n",
        "lats = np.arange(32.5,42.5,paso)\n",
        "lons = np.arange(-124.3,113.3,paso) \n",
        "maximoValor = 0\n",
        "maximaLat = 0\n",
        "maximaLon = 0"
      ]
    },
    {
      "cell_type": "markdown",
      "metadata": {
        "id": "JzDX-mNenfJ-"
      },
      "source": [
        "## $\\imposible $ Unificación de bases de datos\n",
        "\n",
        "El objetivo de este problema es unificar dos bases de datos que contienen mails. Esto quiere decir, tomar dos bases de datos de formato *.csv*: **lista1.csv** y **lista2.csv** y combinarlas en una misma base de datos **listafinal.csv**. \n",
        "El contenido de las bases de datos son listas de mails, que contienen mails y otras informaciones de distintos usuarios. Tener en cuenta que las dos bases de datos pueden tener informaciones distintas de los usuarios.\n",
        "\n",
        "**Recomendamos** descargar los archivos para ver su contenido (Con excel pueden abrirlos, pensar que un csv es prácticamente equivalente a un excel).\n"
      ]
    },
    {
      "cell_type": "code",
      "execution_count": null,
      "metadata": {
        "id": "EKEKk7pOnjpD"
      },
      "outputs": [],
      "source": [
        "! wget \"https://raw.githubusercontent.com/IEEESBITBA/Curso-Python/master/Curso_Analisis_de_Datos_Datos/lista1.csv\" \n",
        "# primera lista de clientes\n",
        "\n",
        "! wget \"https://raw.githubusercontent.com/IEEESBITBA/Curso-Python/master/Curso_Analisis_de_Datos_Datos/lista2.csv\"\n",
        "# segunda lista de clientes\n",
        "\n",
        "! wget \"https://raw.githubusercontent.com/IEEESBITBA/Curso-Python/master/Curso_Analisis_de_Datos_Datos/lista_final.csv\"\n",
        "# ejemplo de como tiene que quedar (las columnas pueden quedar en otro orden! salvo la primera)"
      ]
    },
    {
      "cell_type": "code",
      "execution_count": null,
      "metadata": {
        "id": "Yc_Da8Kf61q5"
      },
      "outputs": [],
      "source": []
    },
    {
      "cell_type": "markdown",
      "metadata": {
        "id": "nAnJeVXQKstS"
      },
      "source": [
        "## Anexo A: JSON\n",
        "La lectura de los Anexos es **100% opcional** y NO es un requisito para continuar con el curso."
      ]
    },
    {
      "cell_type": "markdown",
      "metadata": {
        "id": "5TaNz7sq6_Th"
      },
      "source": [
        "*JSON* es un formato de representación de información estructurada que es de gran utilidad. Su sintaxis es simple y fácil de leer a simple vista, además de que tiene una gran similitud con la sintaxis propia de Python. En la [página web](https://www.json.org/json-es.html) de *JSON* hay explicaciones bastante claras acerca de los detalles de su sintaxis.\n",
        "\n",
        "En *JSON* los objetos se rodean con llaves `{objeto}`, las listas con corchetes `[lista]` y los strings con comillas dobles `\"string\"`. Por el momento se puede pensar que un objeto es igual a un diccionario de Python, pudiendo almacenar datos con claves, por ejemplo:\n",
        "\n",
        "```json\n",
        "{  \n",
        "  \"columna_1\": [1, 8, 4, 6, 2, 8, 5],\n",
        "  \"columna_2\": [99, 56, 223, 301, 56, 2],\n",
        "  \"columna_2\": [0, -1, -66, -210, -333, 334]\n",
        "}\n",
        "```\n",
        "\n",
        "El texto de arriba es código de Python _válido_ y un objeto json! Si quisieramos cargarlo a nuestro código Python bastaría con copiarlo y pegarlo a nuestro código. Pero no siempre vamos a estar nosotros para copiar y pegar el texto json. \n",
        "\n",
        "En el caso presentado a continuación se tiene un string de código json y precisamos [leerlo y procesarlo](https://www.w3schools.com/python/python_json.asp). Para eso usamos el modulo `json` de Python. A continuación se muestra un ejemplo:"
      ]
    },
    {
      "cell_type": "code",
      "execution_count": null,
      "metadata": {
        "id": "4zkx4E3FGvol"
      },
      "outputs": [],
      "source": [
        "import json\n",
        "s = '{ \"a\" : [1, 2, 3], \"b\" : [4, 6, 8], \"c\":[99, 98, 97] }'\n",
        "d= json.loads(s)\n",
        "print(d[\"a\"])\n",
        "print(len(d[\"b\"]))\n",
        "print(sum(d[\"c\"]))"
      ]
    },
    {
      "cell_type": "markdown",
      "metadata": {
        "id": "QMi42SOUH_Hp"
      },
      "source": [
        "Verán que se imprimen la lista `\"a\"`, la longitud de la lista `\"b\"` y la suma de los elementos de la lista `\"c\"`.\n",
        "\n",
        "Vamos a utilizar en el próximo desafío **opcional** la librería `json` para leer el texto que nos llega por `input()`, lo cual podría ocurrir si estamos comunicándonos con un servidor."
      ]
    },
    {
      "cell_type": "markdown",
      "metadata": {
        "id": "JmqpWNphG0To"
      },
      "source": [
        "### **Opcional**: Mini-desafío json\n",
        "Estás encargado de un servidor con millones de usuarios. \n",
        "\n",
        "Se pide escribir un programa que reciba el email y contraseña del usuario y se fije si existe el usuario y si coincide la contraseña.\n",
        "\n",
        "Se tienen datos encolumnados en formato json que nos llegan del siguiente formato:\n",
        "```json\n",
        "{\n",
        "\t\"usuarios\": [\"mica@mail.co\", \"jerry@gma.com\",\"alber@soup.co\"],\n",
        "\t\"contra\": [\"abc123\",\"caballitos\",\"yoloswag\"]\n",
        "}\n",
        "```\n",
        "La entrada del programa son tres lineas, el programa entonces va tener tres `input()`. La primer linea contiene el `json`, la segunda el `email` a verificar, y la tercera la `contraseña`. Por ende, las primeras lineas de su programa podrían ser:\n",
        "```python\n",
        "import json\n",
        "usuarios = json.loads(input())\n",
        "email = input()\n",
        "password = input()\n",
        "```\n",
        "\n",
        "La salida del programa será `OK` si el usuario **se encuentra en la base de datos** ***y*** **si coincide la contraseña**, imprimimos `DNE` (does not exist) si el usuario no existe y `NO` en cualquier otro caso.\n",
        "\n",
        "#### Caso ejemplo\n",
        "**Entrada**:\n",
        "```plaintext\n",
        "{\"usuarios\": [\"mica@mail.co\",\"jerry@gma.com\",\"alber@soup.co\"],\"contra\": [\"abc123\",\"caballitos\",\"yoloswag\"]}\n",
        "mica@mail.co\n",
        "caballitos\n",
        "```\n",
        "El usuario existe y la contraseña también... pero no le corresponde la contraseña `caballitos` al usuario `mica@mail.co` (la contraseña de `mica@mail.co` sería `abc123`) por ende imprimimos:\n",
        "\n",
        "**Salida**\n",
        "```\n",
        "NO\n",
        "```\n",
        "\n",
        "_Considere que no hay usuarios repetidos_."
      ]
    },
    {
      "cell_type": "code",
      "execution_count": null,
      "metadata": {
        "id": "zgmCCY7q4Dpy"
      },
      "outputs": [],
      "source": []
    },
    {
      "cell_type": "markdown",
      "metadata": {
        "id": "ZzwH4JZkKm5N"
      },
      "source": [
        "## Anexo B: API's\n",
        "La lectura de los Anexos es **100% opcional** y NO es un requisito para continuar con el curso."
      ]
    },
    {
      "cell_type": "markdown",
      "metadata": {
        "id": "MD7B9lqk7C9p"
      },
      "source": [
        "En este curso, uno de los objetivos es poder automatizar tareas comunes. Ya empezamos a ver como podemos interactuar con archivos de datos desde nuestro programa en Python, pero esto puede no ser suficiente. Es usual tener que interactuar con una aplicación desde nuestro programa, por ejemplo, nuestro programa podría querer acceder a una página web, o al servidor de nuestra empresa. Para lograr la interacción entre una aplicación y nuestro programa se utilizan API's (Application Programming Interface) las cuales permiten estandarizar el formato de la información que se intercambia. Para lograr esta comunicación una de las herramientas más comunes es el uso de archivos *JSON* ya que de manera simple y concisa pueden representar estructuras de datos relativamente complejas. No todas las aplicaciones tendrán API's ya que depende de su creador programar esta interfaz o no, además, no todas las API's proveen el acceso a todos los datos deseados por lo cual es posible que haya que recurrir a otros métodos menos elegantes para obtener la información deseada.\n",
        "\n",
        "[Este video](https://youtu.be/BxV14h0kFs0) hecho por Tom Scott puede ayudar para comprender un poco más acerca de qué se tratan las API's.\n",
        "\n",
        "Para mostrar un ejemplo práctico del uso de API's, utilizamos uno de los códigos de ejemplo en la documentación de la API de YouTube que pueden ver en [este link](https://developers.google.com/youtube/reporting/v1/code_samples/python?hl=es#retrieve_daily_channel_statistics). Las aplicaciones de Google (Maps, Youtube, etc.) suelen tener API's relativamente buenas y completas. En este caso el ejemplo obtiene ciertas estadísticas del [Canal de YouTube de IEEE-ITBA](https://www.youtube.com/channel/UCpWHvOSiPtDIwIw8Tb_9g6A/featured) entre los días 1 y 13 del mes de octubre 2020. Los resultados **reales** de este programa se muestran a continuación tal cual como fueron enviados por la API de YouTube y recibidos por nuestro programa en Python:\n",
        "\n",
        "```json\n",
        "{\n",
        "    \"columnHeaders\": [\n",
        "        {\n",
        "            \"columnType\": \"DIMENSION\",\n",
        "            \"dataType\": \"STRING\",\n",
        "            \"name\": \"day\"\n",
        "        },\n",
        "        {\n",
        "            \"columnType\": \"METRIC\",\n",
        "            \"dataType\": \"INTEGER\",\n",
        "            \"name\": \"estimatedMinutesWatched\"\n",
        "        },\n",
        "        {\n",
        "            \"columnType\": \"METRIC\",\n",
        "            \"dataType\": \"INTEGER\",\n",
        "            \"name\": \"views\"\n",
        "        },\n",
        "        {\n",
        "            \"columnType\": \"METRIC\",\n",
        "            \"dataType\": \"INTEGER\",\n",
        "            \"name\": \"likes\"\n",
        "        },\n",
        "        {\n",
        "            \"columnType\": \"METRIC\",\n",
        "            \"dataType\": \"INTEGER\",\n",
        "            \"name\": \"subscribersGained\"\n",
        "        }\n",
        "    ],\n",
        "    \"kind\": \"youtubeAnalytics#resultTable\",\n",
        "    \"rows\": [\n",
        "        [\n",
        "            \"2020-10-01\",\n",
        "            26,\n",
        "            19,\n",
        "            0,\n",
        "            0\n",
        "        ],\n",
        "        [\n",
        "            \"2020-10-02\",\n",
        "            2,\n",
        "            14,\n",
        "            0,\n",
        "            0\n",
        "        ],\n",
        "        [\n",
        "            \"2020-10-03\",\n",
        "            120,\n",
        "            78,\n",
        "            0,\n",
        "            1\n",
        "        ],\n",
        "        [\n",
        "            \"2020-10-04\",\n",
        "            3280,\n",
        "            1203,\n",
        "            75,\n",
        "            88\n",
        "        ],\n",
        "        [\n",
        "            \"2020-10-05\",\n",
        "            2064,\n",
        "            747,\n",
        "            22,\n",
        "            44\n",
        "        ],\n",
        "        [\n",
        "            \"2020-10-06\",\n",
        "            2290,\n",
        "            824,\n",
        "            28,\n",
        "            26\n",
        "        ],\n",
        "        [\n",
        "            \"2020-10-07\",\n",
        "            2817,\n",
        "            950,\n",
        "            13,\n",
        "            20\n",
        "        ],\n",
        "        [\n",
        "            \"2020-10-08\",\n",
        "            4594,\n",
        "            1491,\n",
        "            9,\n",
        "            14\n",
        "        ],\n",
        "        [\n",
        "            \"2020-10-09\",\n",
        "            4238,\n",
        "            1254,\n",
        "            17,\n",
        "            19\n",
        "        ],\n",
        "        [\n",
        "            \"2020-10-10\",\n",
        "            31783,\n",
        "            3231,\n",
        "            126,\n",
        "            102\n",
        "        ],\n",
        "        [\n",
        "            \"2020-10-11\",\n",
        "            6233,\n",
        "            1529,\n",
        "            18,\n",
        "            22\n",
        "        ],\n",
        "        [\n",
        "            \"2020-10-12\",\n",
        "            4786,\n",
        "            1138,\n",
        "            9,\n",
        "            7\n",
        "        ],\n",
        "        [\n",
        "            \"2020-10-13\",\n",
        "            3977,\n",
        "            761,\n",
        "            17,\n",
        "            13\n",
        "        ]\n",
        "    ]\n",
        "}\n",
        "```\n",
        "\n",
        "Como se puede observar, el formato de los datos está definido por la API de YouTube, y consiste de una lista ```columnHeaders``` con los datos de cada columna, como por ejemplo el nombre de la columna, y luego una lista ```rows``` con los datos de cada fila en el mismo orden en que se indicaron las columnas.\n",
        "\n",
        "Usando la API de YouTube, por ejemplo, se puede automatizar el análisis de las estadísticas de videos e incluso realizar cambios acordemente para mejorar su rendimiento, como por ejemplo cambiar el título, la imagen de portada, o realizar cualquier análisis personalizado.\n",
        "\n",
        "Usando la API de Google Maps se puede llegar a incorporar funcionalidad de mapas o de geolocalización a nuestra aplicación.\n",
        "\n",
        "En conclusión, las API's nos permiten interactuar desde nuestro programa con otras aplicaciones de forma simple y estandarizada para aprovechar todas las herramientas que nos ofrecen, y automatizar este proceso utilizando Python.\n",
        "\n"
      ]
    }
  ],
  "metadata": {
    "colab": {
      "collapsed_sections": [],
      "name": "Clase 1 - Analisis de Datos.ipynb",
      "provenance": [],
      "toc_visible": true
    },
    "kernelspec": {
      "display_name": "Python 3.9.7 ('MachineLearning')",
      "language": "python",
      "name": "python3"
    },
    "language_info": {
      "codemirror_mode": {
        "name": "ipython",
        "version": 3
      },
      "file_extension": ".py",
      "mimetype": "text/x-python",
      "name": "python",
      "nbconvert_exporter": "python",
      "pygments_lexer": "ipython3",
      "version": "3.9.7"
    },
    "vscode": {
      "interpreter": {
        "hash": "2049868fb182f6c6315572f762b0baf3d62c3c8fcba4edb1d737fb4af9b63b29"
      }
    }
  },
  "nbformat": 4,
  "nbformat_minor": 0
}
